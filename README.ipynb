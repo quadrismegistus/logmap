{
 "cells": [
  {
   "cell_type": "markdown",
   "metadata": {},
   "source": [
    "# logmap\n",
    "\n",
    "A hierarchical, context-manager logger utility with multiprocess mapping capabilities\n",
    "\n",
    "## Install\n",
    "\n",
    "```\n",
    "!pip install git+https://github.com/quadrismegistus/logmap\n",
    "```\n",
    "\n",
    "## Usage"
   ]
  },
  {
   "cell_type": "code",
   "execution_count": 1,
   "metadata": {},
   "outputs": [],
   "source": [
    "from logmap import logmap"
   ]
  },
  {
   "cell_type": "markdown",
   "metadata": {},
   "source": [
    "### Basic usage"
   ]
  },
  {
   "cell_type": "code",
   "execution_count": 2,
   "metadata": {},
   "outputs": [
    {
     "name": "stderr",
     "output_type": "stream",
     "text": [
      "\u001b[34m\u001b[1mtesting...\u001b[0m\u001b[36m @ 2023-12-12 12:58:19,866\u001b[0m\n",
      "\u001b[34m\u001b[1m⎿ 0 seconds\u001b[0m\u001b[36m @ 2023-12-12 12:58:19,867\u001b[0m\n"
     ]
    }
   ],
   "source": [
    "with logmap('testing...'):\n",
    "    # ... do something ...\n",
    "    pass"
   ]
  },
  {
   "cell_type": "markdown",
   "metadata": {},
   "source": [
    "### Getting duration"
   ]
  },
  {
   "cell_type": "code",
   "execution_count": 3,
   "metadata": {},
   "outputs": [
    {
     "name": "stderr",
     "output_type": "stream",
     "text": [
      "\u001b[34m\u001b[1mtesting...\u001b[0m\u001b[36m @ 2023-12-12 12:58:19,874\u001b[0m\n",
      "\u001b[34m\u001b[1m￨ napping for 0.4 seconds\u001b[0m\u001b[36m @ 2023-12-12 12:58:19,875\u001b[0m\n",
      "\u001b[34m\u001b[1m⎿ 0.4 seconds\u001b[0m\u001b[36m @ 2023-12-12 12:58:20,280\u001b[0m\n"
     ]
    }
   ],
   "source": [
    "# get duration\n",
    "with logmap('testing...') as lw:\n",
    "    naptime = lw.nap()"
   ]
  },
  {
   "cell_type": "code",
   "execution_count": 4,
   "metadata": {},
   "outputs": [],
   "source": [
    "assert naptime == lw.duration"
   ]
  },
  {
   "cell_type": "markdown",
   "metadata": {},
   "source": [
    "### Nested logging"
   ]
  },
  {
   "cell_type": "code",
   "execution_count": 5,
   "metadata": {},
   "outputs": [
    {
     "name": "stderr",
     "output_type": "stream",
     "text": [
      "\u001b[34m\u001b[1mtesting nested logging\u001b[0m\u001b[36m @ 2023-12-12 12:58:20,292\u001b[0m\n",
      "\u001b[34m\u001b[1m￨ opening nest level 2\u001b[0m\u001b[36m @ 2023-12-12 12:58:20,293\u001b[0m\n",
      "\u001b[34m\u001b[1m￨ ￨ opening nest level 3\u001b[0m\u001b[36m @ 2023-12-12 12:58:20,294\u001b[0m\n",
      "\u001b[34m\u001b[1m￨ ￨ ￨ napping for 0.3 seconds\u001b[0m\u001b[36m @ 2023-12-12 12:58:20,294\u001b[0m\n",
      "\u001b[34m\u001b[1m￨ ￨ ⎿ 0.3 seconds\u001b[0m\u001b[36m @ 2023-12-12 12:58:20,599\u001b[0m\n",
      "\u001b[34m\u001b[1m￨ ⎿ 0.3 seconds\u001b[0m\u001b[36m @ 2023-12-12 12:58:20,600\u001b[0m\n",
      "\u001b[34m\u001b[1m⎿ 0.3 seconds\u001b[0m\u001b[36m @ 2023-12-12 12:58:20,601\u001b[0m\n"
     ]
    }
   ],
   "source": [
    "with logmap('testing nested logging') as lw:\n",
    "    with logmap('opening nest level 2') as lw2:\n",
    "        with logmap('opening nest level 3') as lw3:\n",
    "            lw3.nap()"
   ]
  },
  {
   "cell_type": "markdown",
   "metadata": {},
   "source": [
    "### Mapping"
   ]
  },
  {
   "cell_type": "code",
   "execution_count": 6,
   "metadata": {},
   "outputs": [
    {
     "name": "stderr",
     "output_type": "stream",
     "text": [
      "\u001b[34m\u001b[1mtesting function mapping\u001b[0m\u001b[36m @ 2023-12-12 12:58:20,608\u001b[0m\n",
      "\u001b[1;34m￨ mapping function_to_map to 5 objects [2x]: 100%|\u001b[0;36m██████████\u001b[0;36m| 5/5 [00:00<00:00,  5.08it/s]\n",
      "\u001b[34m\u001b[1m⎿ 1 second\u001b[0m\u001b[36m @ 2023-12-12 12:58:21,608\u001b[0m\n"
     ]
    },
    {
     "data": {
      "text/plain": [
       "[0.0,\n",
       " 0.45455356308145395,\n",
       " 0.032980832312656805,\n",
       " 0.5999049813004816,\n",
       " 0.5094736472140351]"
      ]
     },
     "execution_count": 6,
     "metadata": {},
     "output_type": "execute_result"
    }
   ],
   "source": [
    "import random,time\n",
    "\n",
    "# get objs to map\n",
    "objs = list(range(5))\n",
    "\n",
    "# define function to map\n",
    "def function_to_map(naptime):\n",
    "    naptime = random.random() * naptime / 2\n",
    "    time.sleep(naptime)\n",
    "    return naptime\n",
    "\n",
    "# open the logmap\n",
    "with logmap('testing function mapping') as lw:\n",
    "\n",
    "    # get results as a list\n",
    "    results = lw.map(function_to_map, objs, num_proc=2)\n",
    "\n",
    "# show results\n",
    "results"
   ]
  },
  {
   "cell_type": "code",
   "execution_count": 7,
   "metadata": {},
   "outputs": [
    {
     "name": "stderr",
     "output_type": "stream",
     "text": [
      "\u001b[34m\u001b[1mtesting function mapping\u001b[0m\u001b[36m @ 2023-12-12 12:58:21,620\u001b[0m\n",
      "\u001b[1;34m￨ got result: 1.1 [2x]: 100%|\u001b[0;36m██████████\u001b[0;36m| 5/5 [00:01<00:00,  2.91it/s]             \n",
      "\u001b[34m\u001b[1m⎿ 1.7 seconds\u001b[0m\u001b[36m @ 2023-12-12 12:58:23,345\u001b[0m\n"
     ]
    }
   ],
   "source": [
    "# Or get a generator for results as they arrive (in order)\n",
    "with logmap('testing function mapping') as lw:\n",
    "    results_iter = lw.imap(function_to_map, objs, num_proc=2)\n",
    "    for res in results_iter:\n",
    "        lw.log(f'got result: {res:.02}')"
   ]
  }
 ],
 "metadata": {
  "kernelspec": {
   "display_name": "Python 3",
   "language": "python",
   "name": "python3"
  },
  "language_info": {
   "codemirror_mode": {
    "name": "ipython",
    "version": 3
   },
   "file_extension": ".py",
   "mimetype": "text/x-python",
   "name": "python",
   "nbconvert_exporter": "python",
   "pygments_lexer": "ipython3",
   "version": "3.12.0"
  }
 },
 "nbformat": 4,
 "nbformat_minor": 2
}
