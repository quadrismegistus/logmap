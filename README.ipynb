{
 "cells": [
  {
   "cell_type": "markdown",
   "metadata": {},
   "source": [
    "# logmap\n",
    "\n",
    "A hierarchical, context-manager logger utility with multiprocess mapping capabilities\n",
    "\n",
    "## Install\n",
    "\n",
    "```\n",
    "!pip install git+https://github.com/quadrismegistus/logmap\n",
    "```\n",
    "\n",
    "## Usage"
   ]
  },
  {
   "cell_type": "code",
   "execution_count": 1,
   "metadata": {},
   "outputs": [],
   "source": [
    "from logmap import logmap"
   ]
  },
  {
   "cell_type": "markdown",
   "metadata": {},
   "source": [
    "### Basic usage"
   ]
  },
  {
   "cell_type": "code",
   "execution_count": 2,
   "metadata": {},
   "outputs": [
    {
     "name": "stderr",
     "output_type": "stream",
     "text": [
      "\u001b[34m\u001b[1mtesting...\u001b[0m\u001b[36m @ 2023-12-12 12:56:00,732\u001b[0m\n",
      "\u001b[34m\u001b[1m⎿ 0 seconds\u001b[0m\u001b[36m @ 2023-12-12 12:56:00,733\u001b[0m\n"
     ]
    }
   ],
   "source": [
    "with logmap('testing...'):\n",
    "    # ... do something ...\n",
    "    pass"
   ]
  },
  {
   "cell_type": "markdown",
   "metadata": {},
   "source": [
    "### Getting duration"
   ]
  },
  {
   "cell_type": "code",
   "execution_count": 3,
   "metadata": {},
   "outputs": [
    {
     "name": "stderr",
     "output_type": "stream",
     "text": [
      "\u001b[34m\u001b[1mtesting...\u001b[0m\u001b[36m @ 2023-12-12 12:56:00,739\u001b[0m\n",
      "\u001b[34m\u001b[1m￨ napping for 1.0 seconds\u001b[0m\u001b[36m @ 2023-12-12 12:56:00,740\u001b[0m\n",
      "\u001b[34m\u001b[1m⎿ 1 second\u001b[0m\u001b[36m @ 2023-12-12 12:56:01,745\u001b[0m\n"
     ]
    }
   ],
   "source": [
    "# get duration\n",
    "with logmap('testing...') as lw:\n",
    "    naptime = lw.nap()"
   ]
  },
  {
   "cell_type": "code",
   "execution_count": 4,
   "metadata": {},
   "outputs": [
    {
     "data": {
      "text/plain": [
       "True"
      ]
     },
     "execution_count": 4,
     "metadata": {},
     "output_type": "execute_result"
    }
   ],
   "source": [
    "naptime == lw.duration"
   ]
  },
  {
   "cell_type": "markdown",
   "metadata": {},
   "source": [
    "### Nested logging"
   ]
  },
  {
   "cell_type": "code",
   "execution_count": 5,
   "metadata": {},
   "outputs": [
    {
     "name": "stderr",
     "output_type": "stream",
     "text": [
      "\u001b[34m\u001b[1mtesting nested logging\u001b[0m\u001b[36m @ 2023-12-12 12:56:01,761\u001b[0m\n",
      "\u001b[34m\u001b[1m￨ opening nest level 2\u001b[0m\u001b[36m @ 2023-12-12 12:56:01,762\u001b[0m\n",
      "\u001b[34m\u001b[1m￨ ￨ opening nest level 3\u001b[0m\u001b[36m @ 2023-12-12 12:56:01,763\u001b[0m\n",
      "\u001b[34m\u001b[1m￨ ￨ ￨ napping for 0.5 seconds\u001b[0m\u001b[36m @ 2023-12-12 12:56:01,764\u001b[0m\n",
      "\u001b[34m\u001b[1m￨ ￨ ⎿ 0.5 seconds\u001b[0m\u001b[36m @ 2023-12-12 12:56:02,268\u001b[0m\n",
      "\u001b[34m\u001b[1m￨ ⎿ 0.5 seconds\u001b[0m\u001b[36m @ 2023-12-12 12:56:02,269\u001b[0m\n",
      "\u001b[34m\u001b[1m⎿ 0.5 seconds\u001b[0m\u001b[36m @ 2023-12-12 12:56:02,270\u001b[0m\n"
     ]
    }
   ],
   "source": [
    "with logmap('testing nested logging') as lw:\n",
    "    with logmap('opening nest level 2') as lw2:\n",
    "        with logmap('opening nest level 3') as lw3:\n",
    "            lw3.nap()"
   ]
  },
  {
   "cell_type": "markdown",
   "metadata": {},
   "source": [
    "### Mapping"
   ]
  },
  {
   "cell_type": "code",
   "execution_count": 6,
   "metadata": {},
   "outputs": [
    {
     "name": "stderr",
     "output_type": "stream",
     "text": [
      "\u001b[34m\u001b[1mtesting function mapping\u001b[0m\u001b[36m @ 2023-12-12 12:56:02,279\u001b[0m\n",
      "\u001b[1;34m￨ mapping function_to_map to 5 objects [2x]: 100%|\u001b[0;36m██████████\u001b[0;36m| 5/5 [00:01<00:00,  3.20it/s]\n",
      "\u001b[34m\u001b[1m⎿ 1.6 seconds\u001b[0m\u001b[36m @ 2023-12-12 12:56:03,855\u001b[0m\n"
     ]
    },
    {
     "data": {
      "text/plain": [
       "[0.0,\n",
       " 0.38940430406309995,\n",
       " 0.42620823441628486,\n",
       " 1.1463515363207601,\n",
       " 0.8378910357390124]"
      ]
     },
     "execution_count": 6,
     "metadata": {},
     "output_type": "execute_result"
    }
   ],
   "source": [
    "import random,time\n",
    "\n",
    "# get objs to map\n",
    "objs = list(range(5))\n",
    "\n",
    "# define function to map\n",
    "def function_to_map(naptime):\n",
    "    naptime = random.random() * naptime / 2\n",
    "    time.sleep(naptime)\n",
    "    return naptime\n",
    "\n",
    "# open the logmap\n",
    "with logmap('testing function mapping') as lw:\n",
    "\n",
    "    # get results as a list\n",
    "    results = lw.map(function_to_map, objs, num_proc=2)\n",
    "\n",
    "# show results\n",
    "results"
   ]
  },
  {
   "cell_type": "code",
   "execution_count": 7,
   "metadata": {},
   "outputs": [
    {
     "name": "stderr",
     "output_type": "stream",
     "text": [
      "\u001b[34m\u001b[1mtesting function mapping\u001b[0m\u001b[36m @ 2023-12-12 12:56:03,866\u001b[0m\n",
      "\u001b[1;34m￨ got result: 0.23 [2x]: 100%|\u001b[0;36m██████████\u001b[0;36m| 5/5 [00:01<00:00,  4.46it/s]            \n",
      "\u001b[34m\u001b[1m⎿ 1.1 seconds\u001b[0m\u001b[36m @ 2023-12-12 12:56:04,993\u001b[0m\n"
     ]
    }
   ],
   "source": [
    "# Or get a generator for results as they arrive (in order)\n",
    "with logmap('testing function mapping') as lw:\n",
    "    results_iter = lw.imap(function_to_map, objs, num_proc=2)\n",
    "    for res in results_iter:\n",
    "        lw.log(f'got result: {res:.02}')"
   ]
  }
 ],
 "metadata": {
  "kernelspec": {
   "display_name": "Python 3",
   "language": "python",
   "name": "python3"
  },
  "language_info": {
   "codemirror_mode": {
    "name": "ipython",
    "version": 3
   },
   "file_extension": ".py",
   "mimetype": "text/x-python",
   "name": "python",
   "nbconvert_exporter": "python",
   "pygments_lexer": "ipython3",
   "version": "3.12.0"
  }
 },
 "nbformat": 4,
 "nbformat_minor": 2
}
