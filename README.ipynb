{
 "cells": [
  {
   "cell_type": "markdown",
   "metadata": {},
   "source": [
    "# logmap\n",
    "\n",
    "A hierarchical, context-manager logger utility with multiprocess mapping capabilities\n",
    "\n",
    "## Install\n",
    "\n",
    "```\n",
    "!pip install git+https://github.com/quadrismegistus/logmap\n",
    "```\n",
    "\n",
    "## Usage"
   ]
  },
  {
   "cell_type": "code",
   "execution_count": 1,
   "metadata": {},
   "outputs": [],
   "source": [
    "from logmap import logmap"
   ]
  },
  {
   "cell_type": "markdown",
   "metadata": {},
   "source": [
    "### Basic usage"
   ]
  },
  {
   "cell_type": "code",
   "execution_count": 9,
   "metadata": {},
   "outputs": [
    {
     "name": "stderr",
     "output_type": "stream",
     "text": [
      "\u001b[34m\u001b[1mtesting...\u001b[0m\u001b[36m @ 2023-12-12 11:41:41,203\u001b[0m\n",
      "\u001b[34m\u001b[1m⎿ 0 seconds\u001b[0m\u001b[36m @ 2023-12-12 11:41:41,204\u001b[0m\n"
     ]
    }
   ],
   "source": [
    "with logmap('testing...'):\n",
    "    # ... do something ...\n",
    "    pass"
   ]
  },
  {
   "cell_type": "markdown",
   "metadata": {},
   "source": [
    "### Getting duration"
   ]
  },
  {
   "cell_type": "code",
   "execution_count": 10,
   "metadata": {},
   "outputs": [
    {
     "name": "stderr",
     "output_type": "stream",
     "text": [
      "\u001b[34m\u001b[1mtesting...\u001b[0m\u001b[36m @ 2023-12-12 11:41:45,288\u001b[0m\n",
      "\u001b[34m\u001b[1m￨ napping for 0.7 seconds\u001b[0m\u001b[36m @ 2023-12-12 11:41:45,289\u001b[0m\n",
      "\u001b[34m\u001b[1m⎿ 0.7 seconds\u001b[0m\u001b[36m @ 2023-12-12 11:41:45,990\u001b[0m\n"
     ]
    }
   ],
   "source": [
    "# get duration\n",
    "with logmap('testing...') as lw:\n",
    "    naptime = lw.nap()\n",
    "\n",
    "assert naptime == lw.duration"
   ]
  },
  {
   "cell_type": "markdown",
   "metadata": {},
   "source": [
    "### Nested logging"
   ]
  },
  {
   "cell_type": "code",
   "execution_count": 14,
   "metadata": {},
   "outputs": [
    {
     "name": "stderr",
     "output_type": "stream",
     "text": [
      "\u001b[34m\u001b[1mtesting nested logging\u001b[0m\u001b[36m @ 2023-12-12 11:43:35,657\u001b[0m\n",
      "\u001b[34m\u001b[1m￨ opening nest level 2\u001b[0m\u001b[36m @ 2023-12-12 11:43:35,658\u001b[0m\n",
      "\u001b[34m\u001b[1m￨ ￨ opening nest level 3\u001b[0m\u001b[36m @ 2023-12-12 11:43:35,659\u001b[0m\n",
      "\u001b[34m\u001b[1m￨ ￨ ￨ napping for 0.3 seconds\u001b[0m\u001b[36m @ 2023-12-12 11:43:35,660\u001b[0m\n",
      "\u001b[34m\u001b[1m￨ ￨ ⎿ 0.3 seconds\u001b[0m\u001b[36m @ 2023-12-12 11:43:35,963\u001b[0m\n",
      "\u001b[34m\u001b[1m￨ ⎿ 0.3 seconds\u001b[0m\u001b[36m @ 2023-12-12 11:43:35,964\u001b[0m\n",
      "\u001b[34m\u001b[1m⎿ 0.3 seconds\u001b[0m\u001b[36m @ 2023-12-12 11:43:35,964\u001b[0m\n"
     ]
    }
   ],
   "source": [
    "with logmap('testing nested logging') as lw:\n",
    "    with logmap('opening nest level 2') as lw2:\n",
    "        with logmap('opening nest level 3') as lw3:\n",
    "            lw3.nap()"
   ]
  },
  {
   "cell_type": "markdown",
   "metadata": {},
   "source": [
    "### Mapping"
   ]
  },
  {
   "cell_type": "code",
   "execution_count": 24,
   "metadata": {},
   "outputs": [
    {
     "name": "stderr",
     "output_type": "stream",
     "text": [
      "\u001b[34m\u001b[1mtesting function mapping\u001b[0m\u001b[36m @ 2023-12-12 12:45:23,074\u001b[0m\n",
      "\u001b[1;34m￨ mapping function_to_map to 10 objects [2x]: 100%|\u001b[0;36m██████████\u001b[0;36m| 10/10 [00:09<00:00,  1.06it/s]\n",
      "\u001b[1;34m￨ got result: 4.0 [2x]: 100%|\u001b[0;36m██████████\u001b[0;36m| 10/10 [00:07<00:00,  1.37it/s]             \n",
      "\u001b[34m\u001b[1m⎿ 16.8 seconds\u001b[0m\u001b[36m @ 2023-12-12 12:45:39,858\u001b[0m\n"
     ]
    }
   ],
   "source": [
    "import random,time\n",
    "\n",
    "# get objs to map\n",
    "objs = list(range(10))\n",
    "\n",
    "# define function to map\n",
    "def function_to_map(naptime):\n",
    "    naptime = random.random() * naptime / 2\n",
    "    time.sleep(naptime)\n",
    "    return naptime\n",
    "\n",
    "# open the logmap\n",
    "with logmap('testing function mapping') as lw:\n",
    "\n",
    "    # get results in list...\n",
    "    results = lw.map(function_to_map, objs, num_proc=2)\n",
    "\n",
    "    # ...or get a generator for results as they arrive (in order)\n",
    "    results_iter = lw.imap(function_to_map, objs, num_proc=2)\n",
    "    for res in results_iter:\n",
    "        lw.log(f'got result: {res:.02}')"
   ]
  }
 ],
 "metadata": {
  "kernelspec": {
   "display_name": "Python 3",
   "language": "python",
   "name": "python3"
  },
  "language_info": {
   "codemirror_mode": {
    "name": "ipython",
    "version": 3
   },
   "file_extension": ".py",
   "mimetype": "text/x-python",
   "name": "python",
   "nbconvert_exporter": "python",
   "pygments_lexer": "ipython3",
   "version": "3.12.0"
  }
 },
 "nbformat": 4,
 "nbformat_minor": 2
}
